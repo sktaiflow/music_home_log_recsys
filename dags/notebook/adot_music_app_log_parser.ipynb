{
 "cells": [
  {
   "cell_type": "code",
   "execution_count": 1,
   "id": "157d54ff-0a43-44a6-b3c5-a2e6b9e39c37",
   "metadata": {
    "execution": {
     "iopub.execute_input": "2023-11-10T05:40:20.688788Z",
     "iopub.status.busy": "2023-11-10T05:40:20.688448Z",
     "iopub.status.idle": "2023-11-10T05:40:22.133309Z",
     "shell.execute_reply": "2023-11-10T05:40:22.132495Z",
     "shell.execute_reply.started": "2023-11-10T05:40:20.688765Z"
    },
    "tags": []
   },
   "outputs": [],
   "source": [
    "from skt.ye import get_spark\n",
    "from sklearn.model_selection import train_test_split\n",
    "from matplotlib import pyplot as plt\n",
    "import seaborn as sns\n",
    "import numpy as np\n",
    "import pandas as pd\n",
    "import pyspark.sql.functions as F\n",
    "import sys\n",
    "from datetime import datetime, timedelta"
   ]
  },
  {
   "cell_type": "code",
   "execution_count": 2,
   "id": "2d28c7b1-b2ce-4409-a7cf-328719b2f55c",
   "metadata": {
    "execution": {
     "iopub.execute_input": "2023-11-10T05:40:25.319045Z",
     "iopub.status.busy": "2023-11-10T05:40:25.317933Z",
     "iopub.status.idle": "2023-11-10T05:40:25.901224Z",
     "shell.execute_reply": "2023-11-10T05:40:25.900463Z",
     "shell.execute_reply.started": "2023-11-10T05:40:25.319015Z"
    },
    "tags": []
   },
   "outputs": [],
   "source": [
    "from skt.gcp import load_bigquery_ipython_magic, \\\n",
    "                    bq_to_pandas, \\\n",
    "                    get_bigquery_client, \\\n",
    "                    bq_to_df"
   ]
  },
  {
   "cell_type": "code",
   "execution_count": 1,
   "id": "71a1c4b8-0742-4fc3-b76d-3af008f664ac",
   "metadata": {
    "execution": {
     "iopub.execute_input": "2023-11-12T12:48:07.561060Z",
     "iopub.status.busy": "2023-11-12T12:48:07.560688Z",
     "iopub.status.idle": "2023-11-12T12:48:07.563920Z",
     "shell.execute_reply": "2023-11-12T12:48:07.563417Z",
     "shell.execute_reply.started": "2023-11-12T12:48:07.561032Z"
    },
    "tags": []
   },
   "outputs": [],
   "source": [
    "execution_dt = datetime.strptime(current_dt, '%Y%m%d')\n",
    "execution_date_ago = (execution_dt - timedelta(days=1)).strftime('%Y/%m/%d')\n",
    "execution_dt = execution_dt.strftime('%Y-%m-%d')\n",
    "print(f'excution_dt: {execution_dt}')\n",
    "print(f'execution_dt_ago: {execution_date_ago}')"
   ]
  },
  {
   "cell_type": "markdown",
   "id": "68a7fefa-9db9-4f52-8212-10b2a16b7e6f",
   "metadata": {},
   "source": [
    "# QUERY FOR APP LOG MUSIC HOME"
   ]
  },
  {
   "cell_type": "code",
   "execution_count": 71,
   "id": "93e3cd08-58f0-41b7-883f-4af42d476ce8",
   "metadata": {
    "execution": {
     "iopub.execute_input": "2023-11-10T05:58:39.885300Z",
     "iopub.status.busy": "2023-11-10T05:58:39.884672Z",
     "iopub.status.idle": "2023-11-10T05:58:39.890087Z",
     "shell.execute_reply": "2023-11-10T05:58:39.889551Z",
     "shell.execute_reply.started": "2023-11-10T05:58:39.885269Z"
    },
    "tags": []
   },
   "outputs": [],
   "source": [
    "query = f\"\"\"\n",
    "WITH raw_data AS\n",
    "(\n",
    "    SELECT  timestamp,\n",
    "            user_id,\n",
    "            stat,\n",
    "            JSON_EXTRACT_ARRAY(click) as click,\n",
    "            service_cd\n",
    "            \n",
    "    FROM\n",
    "    (\n",
    "        SELECT  timestamp,\n",
    "                JSON_VALUE(log, '$.BODY.USER_ID') as user_id,\n",
    "                JSON_EXTRACT(SAFE.PARSE_JSON(log), '$.BODY') as body,\n",
    "                STRING(JSON_EXTRACT(JSON_EXTRACT(SAFE.PARSE_JSON(log), '$.BODY'), '$.SERVICE_CD')) as service_cd,\n",
    "                JSON_EXTRACT(JSON_EXTRACT(SAFE.PARSE_JSON(log), '$.BODY'), '$.STAT') as stat,\n",
    "                JSON_EXTRACT(JSON_EXTRACT(JSON_EXTRACT(SAFE.PARSE_JSON(log), '$.BODY'), '$.STAT'), '$.CLICK')  as click\n",
    "        FROM `skt-datahub.apollo_log.applog_prd` \n",
    "        WHERE TIMESTAMP_TRUNC(timestamp, day) = TIMESTAMP('{execution_dt}') and \n",
    "        log like '%music.home%'\n",
    "    )\n",
    "    WHERE service_cd ='apollo' and ARRAY_LENGTH(JSON_EXTRACT_ARRAY(click)) > 0\n",
    "),\n",
    "get_parsed_data as (\n",
    "    SELECT  *\n",
    "    FROM(\n",
    "        SELECT  timestamp,\n",
    "                user_id,\n",
    "                click,\n",
    "                service_cd,\n",
    "                JSON_EXTRACT_ARRAY(JSON_EXTRACT(click, '$.ADDITIONAL_DIMENSION')) as ADDITIONAL_DIMENSION,\n",
    "                JSON_VALUE(click, '$.CLICK_ACTION_CD') as CLICK_ACTION_CD,\n",
    "                JSON_VALUE(click, '$.CLICK_CD') as CLICK_CD,\n",
    "                JSON_VALUE(click, '$.CLICK_TM') as CLICK_TM,\n",
    "                JSON_VALUE(click, '$.CLIENT_SEQ') as CLIENT_SEQ,\n",
    "                JSON_VALUE(click, '$.COUNTRY_CODE') as COUNTRY_CODE,\n",
    "                JSON_VALUE(click, '$.PAGE_CD') as PAGE_CD\n",
    "        \n",
    "        FROM(\n",
    "            SELECT \n",
    "                   user_id,\n",
    "                   timestamp,\n",
    "                   click,\n",
    "                   service_cd\n",
    "            FROM raw_data,\n",
    "            UNNEST(click) click\n",
    "        )\n",
    "        WHERE STRING(JSON_EXTRACT(click, '$.PAGE_CD')) = 'music.home' -- music home 조건\n",
    "    )\n",
    ")\n",
    "\n",
    "SELECT  user_id,\n",
    "        service_cd,\n",
    "        Max(transactionId_value) AS transactionId,\n",
    "        MAX(sectionId_value) AS sectionId,\n",
    "        MAX(section_value) AS section,\n",
    "        MAX(index_value) AS index,\n",
    "        CLICK_ACTION_CD AS click_action_cd,\n",
    "        CLICK_CD AS click_cd,\n",
    "        CLICK_TM AS click_tm,\n",
    "        PAGE_CD AS page_cd,\n",
    "        COUNTRY_CODE AS country_code,\n",
    "        timestamp,\n",
    "        DATE(TIMESTAMP_TRUNC(timestamp, day)) as dt\n",
    "FROM \n",
    "(\n",
    "    SELECT  *,\n",
    "            IF(JSON_EXTRACT_SCALAR(info, '$.DIMENSION_CD') IN ('TRANSACTION_ID'), JSON_EXTRACT_SCALAR(info, '$.DIMENSION_VALUE'), NULL) AS transactionId_value, \n",
    "            IF(JSON_EXTRACT_SCALAR(info, '$.DIMENSION_CD') IN ('SECTION_ID'), JSON_EXTRACT_SCALAR(info, '$.DIMENSION_VALUE'), NULL) AS sectionId_value,\n",
    "            IF(JSON_EXTRACT_SCALAR(info, '$.DIMENSION_CD') IN ('SECTION'), JSON_EXTRACT_SCALAR(info, '$.DIMENSION_VALUE'), NULL) AS section_value,\n",
    "            IF(JSON_EXTRACT_SCALAR(info, '$.DIMENSION_CD') IN ('INDEX'), JSON_EXTRACT_SCALAR(info, '$.DIMENSION_VALUE'), NULL) AS index_value\n",
    "\n",
    "    FROM get_parsed_data CROSS JOIN UNNEST(additional_dimension) AS info\n",
    ")\n",
    "GROUP BY user_id, service_cd,click_action_cd, click_cd, click_tm, page_cd, country_code, timestamp\n",
    "\"\"\"\n"
   ]
  },
  {
   "cell_type": "code",
   "execution_count": 4,
   "id": "b200b4c4-9c07-4f16-8bf4-d19a4bcc6f75",
   "metadata": {
    "execution": {
     "iopub.execute_input": "2023-11-12T12:51:06.701158Z",
     "iopub.status.busy": "2023-11-12T12:51:06.700806Z",
     "iopub.status.idle": "2023-11-12T12:51:06.703703Z",
     "shell.execute_reply": "2023-11-12T12:51:06.703214Z",
     "shell.execute_reply.started": "2023-11-12T12:51:06.701124Z"
    },
    "tags": []
   },
   "outputs": [],
   "source": [
    "music_home_log = bq_to_pandas(query)"
   ]
  },
  {
   "cell_type": "code",
   "execution_count": null,
   "id": "d49ac6c2-ffd6-441d-b262-e8b90d320df2",
   "metadata": {},
   "outputs": [],
   "source": [
    "music_home_log['more_flag'] = music_home_log['click_cd'].apply(lambda x: True if 'more' in x else False)\n",
    "music_home_log['click_cd'] = music_home_log['click_cd'].apply(lambda x: x.split('_')[0] if 'more' in x else x)"
   ]
  },
  {
   "cell_type": "code",
   "execution_count": 6,
   "id": "27ec8c2e-3a32-4074-9452-ebcc0252bedd",
   "metadata": {
    "execution": {
     "iopub.execute_input": "2023-11-12T12:51:12.619399Z",
     "iopub.status.busy": "2023-11-12T12:51:12.618996Z",
     "iopub.status.idle": "2023-11-12T12:51:12.622704Z",
     "shell.execute_reply": "2023-11-12T12:51:12.622184Z",
     "shell.execute_reply.started": "2023-11-12T12:51:12.619372Z"
    },
    "tags": []
   },
   "outputs": [],
   "source": [
    "music_home_log.iloc[0]        "
   ]
  },
  {
   "cell_type": "code",
   "execution_count": 2,
   "id": "1138c5a5-0949-4edf-80cd-93b0175c66db",
   "metadata": {
    "execution": {
     "iopub.execute_input": "2023-11-12T12:48:12.802192Z",
     "iopub.status.busy": "2023-11-12T12:48:12.801837Z",
     "iopub.status.idle": "2023-11-12T12:48:12.805170Z",
     "shell.execute_reply": "2023-11-12T12:48:12.804667Z",
     "shell.execute_reply.started": "2023-11-12T12:48:12.802166Z"
    },
    "tags": []
   },
   "outputs": [],
   "source": [
    "from skt.gcp import df_to_bq_table\n",
    "from pyspark.sql.types import DateType\n",
    "import time\n",
    "\n",
    "dest_dataset = \"x1112436\"\n",
    "partitioned_dest_table = f\"adot_musichome_app_log_stg\"\n",
    "\n",
    "get_bigquery_client().query(f\"\"\"\n",
    "    CREATE TABLE IF NOT EXISTS {dest_dataset}.{partitioned_dest_table}\n",
    "    (\n",
    "        user_id STRING,\n",
    "        service_cd STRING,\n",
    "        transactionId STRING,\n",
    "        sectionId STRING,\n",
    "        section STRING,\n",
    "        index STRING,\n",
    "        click_action_cd STRING,\n",
    "        click_cd STRING,\n",
    "        click_tm STRING,\n",
    "        page_cd STRING,\n",
    "        more_flag Bool,\n",
    "        country_code STRING,\n",
    "        timestamp TIMESTAMP,\n",
    "        dt DATE\n",
    "    )\n",
    "    PARTITION BY dt\n",
    "\"\"\").result()\n",
    "\n",
    "print(f\"생성된 테이블 : {dest_dataset}.{partitioned_dest_table}\")"
   ]
  },
  {
   "cell_type": "code",
   "execution_count": 81,
   "id": "b33a6431-2d06-431f-b607-a3df081383c4",
   "metadata": {
    "execution": {
     "iopub.execute_input": "2023-11-10T05:59:43.588064Z",
     "iopub.status.busy": "2023-11-10T05:59:43.587731Z",
     "iopub.status.idle": "2023-11-10T05:59:43.591296Z",
     "shell.execute_reply": "2023-11-10T05:59:43.590792Z",
     "shell.execute_reply.started": "2023-11-10T05:59:43.588038Z"
    },
    "tags": []
   },
   "outputs": [],
   "source": [
    "from skt.gcp import pandas_to_bq, get_bigquery_client"
   ]
  },
  {
   "cell_type": "code",
   "execution_count": 82,
   "id": "729dbbcc-c8ac-4807-97b6-df973d1b6492",
   "metadata": {
    "execution": {
     "iopub.execute_input": "2023-11-10T05:59:43.592330Z",
     "iopub.status.busy": "2023-11-10T05:59:43.592009Z",
     "iopub.status.idle": "2023-11-10T05:59:49.633386Z",
     "shell.execute_reply": "2023-11-10T05:59:49.632758Z",
     "shell.execute_reply.started": "2023-11-10T05:59:43.592310Z"
    },
    "tags": []
   },
   "outputs": [],
   "source": [
    "pandas_to_bq(\n",
    "             pd_df = music_home_log, \n",
    "             destination = f\"skt-datahub.{dest_dataset}.{partitioned_dest_table}\", \n",
    "             partition = 'dt',\n",
    "             overwrite=True\n",
    ")"
   ]
  },
  {
   "cell_type": "code",
   "execution_count": 3,
   "id": "4cd0468a-0720-4fb3-9e54-c0601a2a7fbb",
   "metadata": {
    "execution": {
     "iopub.execute_input": "2023-11-12T12:48:16.701785Z",
     "iopub.status.busy": "2023-11-12T12:48:16.701435Z",
     "iopub.status.idle": "2023-11-12T12:48:16.704372Z",
     "shell.execute_reply": "2023-11-12T12:48:16.703806Z",
     "shell.execute_reply.started": "2023-11-12T12:48:16.701759Z"
    },
    "tags": []
   },
   "outputs": [],
   "source": [
    "get_bigquery_client().query(f\"\"\"\n",
    "    DROP TABLE IF EXISTS {dest_dataset}.{partitioned_dest_table}\"\"\"\n",
    ")"
   ]
  }
 ],
 "metadata": {
  "kernelspec": {
   "display_name": "Python 3 (ipykernel)",
   "language": "python",
   "name": "python3"
  },
  "language_info": {
   "codemirror_mode": {
    "name": "ipython",
    "version": 3
   },
   "file_extension": ".py",
   "mimetype": "text/x-python",
   "name": "python",
   "nbconvert_exporter": "python",
   "pygments_lexer": "ipython3",
   "version": "3.8.12"
  }
 },
 "nbformat": 4,
 "nbformat_minor": 5
}
