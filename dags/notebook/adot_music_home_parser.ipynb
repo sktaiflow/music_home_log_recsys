{
 "cells": [
  {
   "cell_type": "code",
   "execution_count": 4,
   "id": "25c51b5e-e69a-499c-b2e9-1abb08936b22",
   "metadata": {
    "execution": {
     "iopub.execute_input": "2023-11-11T14:45:15.727201Z",
     "iopub.status.busy": "2023-11-11T14:45:15.726814Z",
     "iopub.status.idle": "2023-11-11T14:45:16.583027Z",
     "shell.execute_reply": "2023-11-11T14:45:16.582418Z",
     "shell.execute_reply.started": "2023-11-11T14:45:15.727174Z"
    },
    "tags": []
   },
   "outputs": [],
   "source": [
    "from skt.ye import get_spark\n",
    "from matplotlib import pyplot as plt\n",
    "import seaborn as sns\n",
    "import numpy as np\n",
    "import pandas as pd\n",
    "import pyspark.sql.functions as F\n",
    "import sys\n",
    "from datetime import datetime, timedelta"
   ]
  },
  {
   "cell_type": "code",
   "execution_count": 5,
   "id": "b9c16941-9b53-4c09-8175-f52f9e7d948d",
   "metadata": {
    "execution": {
     "iopub.execute_input": "2023-11-11T14:45:18.766327Z",
     "iopub.status.busy": "2023-11-11T14:45:18.765804Z",
     "iopub.status.idle": "2023-11-11T14:45:18.769535Z",
     "shell.execute_reply": "2023-11-11T14:45:18.768903Z",
     "shell.execute_reply.started": "2023-11-11T14:45:18.766298Z"
    },
    "tags": []
   },
   "outputs": [],
   "source": [
    "from skt.gcp import load_bigquery_ipython_magic, \\\n",
    "                    bq_to_pandas, \\\n",
    "                    get_bigquery_client, \\\n",
    "                    bq_to_df"
   ]
  },
  {
   "cell_type": "code",
   "execution_count": 1,
   "id": "809c97c7-c585-423d-b27d-94aff35d8eb8",
   "metadata": {
    "execution": {
     "iopub.execute_input": "2023-11-12T12:47:46.655171Z",
     "iopub.status.busy": "2023-11-12T12:47:46.654741Z",
     "iopub.status.idle": "2023-11-12T12:47:46.658226Z",
     "shell.execute_reply": "2023-11-12T12:47:46.657676Z",
     "shell.execute_reply.started": "2023-11-12T12:47:46.655139Z"
    },
    "tags": []
   },
   "outputs": [],
   "source": [
    "execution_dt = datetime.strptime(current_dt, '%Y%m%d')\n",
    "execution_date_ago = (execution_dt - timedelta(days=1)).strftime('%Y/%m/%d')\n",
    "execution_dt = execution_dt.strftime('%Y-%m-%d')\n",
    "print(f'excution_dt: {execution_dt}')\n",
    "print(f'execution_dt_ago: {execution_date_ago}')"
   ]
  },
  {
   "cell_type": "markdown",
   "id": "9693be14-e21c-4395-a2ec-492da46bebf5",
   "metadata": {},
   "source": [
    "# 음악 홈 쿼리"
   ]
  },
  {
   "cell_type": "code",
   "execution_count": 159,
   "id": "fe521158-e943-4a08-83e2-7504f1d04eb9",
   "metadata": {
    "execution": {
     "iopub.execute_input": "2023-11-11T16:26:26.611603Z",
     "iopub.status.busy": "2023-11-11T16:26:26.611016Z",
     "iopub.status.idle": "2023-11-11T16:26:26.615437Z",
     "shell.execute_reply": "2023-11-11T16:26:26.614925Z",
     "shell.execute_reply.started": "2023-11-11T16:26:26.611578Z"
    },
    "tags": []
   },
   "outputs": [],
   "source": [
    "# query = f\"\"\"\n",
    "# WITH RAW_HOME_LOG AS (\n",
    "#     SELECT * \n",
    "#     FROM(\n",
    "#         SELECT  JSON_EXTRACT(responseData, '$.transactionId') as transactionId,\n",
    "#                 JSON_EXTRACT_ARRAY(JSON_EXTRACT(responseData, '$.sectionList')) as sectionList,\n",
    "#                 JSON_EXTRACT(responseData, '$.size') as cardSize,\n",
    "#                 JSON_EXTRACT(responseData, '$.elapsed') as elapsed,\n",
    "#                 JSON_EXTRACT(responseData, '$.header') as header,\n",
    "#                 request,\n",
    "#                 response,\n",
    "#                 responseStatusCode,\n",
    "#                 responseCode,\n",
    "#                 timestamp\n",
    "#         FROM(\n",
    "#             SELECT  JSON_EXTRACT(JSON_VALUE(log, '$.responseBody'),'$.data') AS responseData,\n",
    "#                     JSON_EXTRACT(JSON_VALUE(log, '$.responseBody'),'$.statusCode') AS responseStatusCode,\n",
    "#                     JSON_EXTRACT(JSON_VALUE(log, '$.responseBody'),'$.code') AS responseCode,\n",
    "#                     JSON_VALUE(log, '$.requestBody') AS request,\n",
    "#                     JSON_VALUE(log, '$.responseBody') AS response,\n",
    "#                     timestamp\n",
    "#             FROM `skt-datahub.apollo_log.home_aggregator_prd` \n",
    "#             WHERE TIMESTAMP_TRUNC(timestamp, day) = TIMESTAMP('{execution_dt}')\n",
    "#         )\n",
    "#         WHERE JSON_EXTRACT(responseData, '$.header') is null --music home log 뽑는 조건\n",
    "#     ),  UNNEST(sectionList) sectionList_item\n",
    "# ),\n",
    "# PREPROCESS_FIRST AS (\n",
    "#     SELECT  transactionId,\n",
    "#             Cast(cardSize as INT64) as cardSize,\n",
    "#             responseStatusCode,\n",
    "#             responseCode,\n",
    "#             ARRAY_AGG(sectionInfo IGNORE NULLS) as cardList,\n",
    "#             ARRAY_AGG(sectionTitle IGNORE NULLS) as cardTitleList,\n",
    "#             IF (MIN(cardIndex)>0, True, FALSE) as cold_start,\n",
    "#             MIN(cardIndex) as smallestIndex,\n",
    "#             domain,\n",
    "#             timestamp,\n",
    "#             DATE(TIMESTAMP_TRUNC(timestamp, day)) as dt\n",
    "            \n",
    "#     FROM (\n",
    "#         SELECT  transactionId,\n",
    "#                 JSON_EXTRACT(sectionList_item, '$.title') as sectionTitle,\n",
    "#                 JSON_EXTRACT(sectionList_item, '$.info') as sectionInfo,\n",
    "#                 CAST(JSON_EXTRACT(JSON_EXTRACT(sectionList_item, '$.info'), '$.index') as INT64) as cardIndex,\n",
    "#                 cardSize,\n",
    "#                 JSON_EXTRACT(sectionList_item, '$.cardList') as sectioncardList,\n",
    "#                 If(header is null, 'music_home', header) as domain,\n",
    "#                 responseStatusCode,\n",
    "#                 responseCode,\n",
    "#                 timestamp\n",
    "#         FROM RAW_HOME_LOG\n",
    "#     ) \n",
    "#     GROUP BY transactionId, cardSize, responseStatusCode, responseCode, domain, timestamp\n",
    "# )\n",
    "\n",
    "# SELECT *\n",
    "# FROM PREPROCESS_FIRST\n",
    "# WHERE transactionId is not Null\n",
    "# \"\"\""
   ]
  },
  {
   "cell_type": "code",
   "execution_count": 100,
   "id": "fd2f765a-1568-4801-acec-d24d7eb8bcf6",
   "metadata": {
    "execution": {
     "iopub.execute_input": "2023-11-11T15:23:43.331816Z",
     "iopub.status.busy": "2023-11-11T15:23:43.331227Z",
     "iopub.status.idle": "2023-11-11T15:23:43.336151Z",
     "shell.execute_reply": "2023-11-11T15:23:43.335603Z",
     "shell.execute_reply.started": "2023-11-11T15:23:43.331790Z"
    },
    "tags": []
   },
   "outputs": [],
   "source": [
    "query = f\"\"\"\n",
    "WITH RAW_HOME_LOG AS (\n",
    "    SELECT * \n",
    "    FROM(\n",
    "        SELECT  JSON_EXTRACT(responseData, '$.transactionId') as transactionId,\n",
    "                JSON_EXTRACT_ARRAY(JSON_EXTRACT(responseData, '$.sectionList')) as sectionList,\n",
    "                JSON_EXTRACT(responseData, '$.size') as cardSize,\n",
    "                JSON_EXTRACT(responseData, '$.elapsed') as elapsed,\n",
    "                JSON_EXTRACT(responseData, '$.header') as header,\n",
    "                request,\n",
    "                response,\n",
    "                responseStatusCode,\n",
    "                responseCode,\n",
    "                timestamp\n",
    "        FROM(\n",
    "            SELECT  JSON_EXTRACT(JSON_VALUE(log, '$.responseBody'),'$.data') AS responseData,\n",
    "                    JSON_EXTRACT(JSON_VALUE(log, '$.responseBody'),'$.statusCode') AS responseStatusCode,\n",
    "                    JSON_EXTRACT(JSON_VALUE(log, '$.responseBody'),'$.code') AS responseCode,\n",
    "                    JSON_VALUE(log, '$.requestBody') AS request,\n",
    "                    JSON_VALUE(log, '$.responseBody') AS response,\n",
    "                    timestamp\n",
    "            FROM `skt-datahub.apollo_log.home_aggregator_prd` \n",
    "            WHERE TIMESTAMP_TRUNC(timestamp, day) = TIMESTAMP('{execution_dt}')\n",
    "        )\n",
    "        WHERE JSON_EXTRACT(responseData, '$.header') is null --music home log 뽑는 조건\n",
    "    ),  UNNEST(sectionList) sectionList_item\n",
    "),\n",
    "PREPROCESS_FIRST AS (\n",
    "\n",
    "SELECT transactionId,\n",
    "       STRUCT(\n",
    "           JSON_VALUE(sectionInfo, \"$.sectionId\") AS  sectionId,\n",
    "           JSON_VALUE(sectionInfo, \"$.section\") AS  section,\n",
    "           JSON_VALUE(sectionInfo, \"$.index\") AS  index,\n",
    "           JSON_VALUE(sectionInfo, \"$.elapsed\") AS  elapsed\n",
    "        ) AS section_info,\n",
    "        cardIndex,\n",
    "        cardSize,\n",
    "        responseStatusCode,\n",
    "        responseCode,\n",
    "        domain,\n",
    "        timestamp\n",
    "FROM\n",
    "(\n",
    "        SELECT  transactionId,\n",
    "                JSON_EXTRACT(sectionList_item, '$.title') as sectionTitle,\n",
    "                JSON_EXTRACT(sectionList_item, '$.info') as sectionInfo,\n",
    "                CAST(JSON_EXTRACT(JSON_EXTRACT(sectionList_item, '$.info'), '$.index') as INT64) as cardIndex,\n",
    "                cardSize,\n",
    "                JSON_EXTRACT(sectionList_item, '$.cardList') as sectioncardList,\n",
    "                If(header is null, 'music_home', header) as domain,\n",
    "                responseStatusCode,\n",
    "                responseCode,\n",
    "                timestamp\n",
    "        FROM RAW_HOME_LOG\n",
    "))\n",
    "\n",
    "SELECT transactionId,\n",
    "       ARRAY_AGG(section_info IGNORE NULLS) as section_info,\n",
    "       IF (MIN(cardIndex)> 2, True, FALSE) as cold_start,\n",
    "       MIN(cardIndex) as smallestIndex,\n",
    "       CAST(cardSize as INT) as cardSize,\n",
    "       domain,\n",
    "       responseStatusCode,\n",
    "       responseCode,\n",
    "       timestamp,\n",
    "       DATE(TIMESTAMP_TRUNC(timestamp, day)) as dt\n",
    "       \n",
    "FROM PREPROCESS_FIRST\n",
    "WHERE transactionId is not Null\n",
    "GROUP BY transactionId, cardSize, responseStatusCode, responseCode, domain, timestamp\n",
    "\"\"\""
   ]
  },
  {
   "cell_type": "code",
   "execution_count": 2,
   "id": "222e4562-8166-429f-89eb-1c181eb3e79e",
   "metadata": {
    "execution": {
     "iopub.execute_input": "2023-11-12T12:47:57.719908Z",
     "iopub.status.busy": "2023-11-12T12:47:57.719498Z",
     "iopub.status.idle": "2023-11-12T12:47:57.722637Z",
     "shell.execute_reply": "2023-11-12T12:47:57.722112Z",
     "shell.execute_reply.started": "2023-11-12T12:47:57.719882Z"
    },
    "tags": []
   },
   "outputs": [],
   "source": [
    "df = bq_to_pandas(query)"
   ]
  },
  {
   "cell_type": "code",
   "execution_count": 167,
   "id": "095a1210-0e7c-4bd5-8356-c18237ae7253",
   "metadata": {
    "execution": {
     "iopub.execute_input": "2023-11-11T16:31:19.896055Z",
     "iopub.status.busy": "2023-11-11T16:31:19.895660Z",
     "iopub.status.idle": "2023-11-11T16:31:19.972920Z",
     "shell.execute_reply": "2023-11-11T16:31:19.972358Z",
     "shell.execute_reply.started": "2023-11-11T16:31:19.896032Z"
    },
    "tags": []
   },
   "outputs": [],
   "source": [
    "df['transactionId'] = df['transactionId'].apply(lambda x: eval(x))"
   ]
  },
  {
   "cell_type": "code",
   "execution_count": null,
   "id": "6ead8ccf-85c0-4908-8b19-cd2c29d7ce9a",
   "metadata": {},
   "outputs": [],
   "source": [
    "from skt.gcp import pandas_to_bq, get_bigquery_client"
   ]
  },
  {
   "cell_type": "code",
   "execution_count": null,
   "id": "943b84ad-909f-4a27-bc01-699ffd4294ea",
   "metadata": {},
   "outputs": [],
   "source": [
    "dest_dataset = \"x1112436\"\n",
    "partitioned_dest_table = f\"adot_musichome_log_stg\""
   ]
  },
  {
   "cell_type": "code",
   "execution_count": 168,
   "id": "8b69bac0-bfe0-4999-bf66-c28d8983ed3b",
   "metadata": {
    "execution": {
     "iopub.execute_input": "2023-11-11T16:31:21.267763Z",
     "iopub.status.busy": "2023-11-11T16:31:21.267262Z",
     "iopub.status.idle": "2023-11-11T16:31:26.640241Z",
     "shell.execute_reply": "2023-11-11T16:31:26.639619Z",
     "shell.execute_reply.started": "2023-11-11T16:31:21.267726Z"
    },
    "tags": []
   },
   "outputs": [],
   "source": [
    "pandas_to_bq(\n",
    "             pd_df = df, \n",
    "             destination = f\"skt-datahub.{dest_dataset}.{partitioned_dest_table}\", \n",
    "             partition = 'dt',\n",
    "             overwrite=True\n",
    ")"
   ]
  },
  {
   "cell_type": "code",
   "execution_count": 166,
   "id": "0bd52330-1e5d-4f07-8a64-fd63962927f8",
   "metadata": {
    "execution": {
     "iopub.execute_input": "2023-11-11T16:31:18.675271Z",
     "iopub.status.busy": "2023-11-11T16:31:18.674678Z",
     "iopub.status.idle": "2023-11-11T16:31:18.677622Z",
     "shell.execute_reply": "2023-11-11T16:31:18.677110Z",
     "shell.execute_reply.started": "2023-11-11T16:31:18.675234Z"
    },
    "tags": []
   },
   "outputs": [],
   "source": [
    "# dest_dataset = \"x1112436\"\n",
    "# partitioned_dest_table = f\"adot_musichome_log_stg\"\n",
    "\n",
    "# get_bigquery_client().query(f\"\"\"\n",
    "#     DROP TABLE IF EXISTS {dest_dataset}.{partitioned_dest_table}\"\"\"\n",
    "# )"
   ]
  }
 ],
 "metadata": {
  "kernelspec": {
   "display_name": "Python 3 (ipykernel)",
   "language": "python",
   "name": "python3"
  },
  "language_info": {
   "codemirror_mode": {
    "name": "ipython",
    "version": 3
   },
   "file_extension": ".py",
   "mimetype": "text/x-python",
   "name": "python",
   "nbconvert_exporter": "python",
   "pygments_lexer": "ipython3",
   "version": "3.8.12"
  }
 },
 "nbformat": 4,
 "nbformat_minor": 5
}
