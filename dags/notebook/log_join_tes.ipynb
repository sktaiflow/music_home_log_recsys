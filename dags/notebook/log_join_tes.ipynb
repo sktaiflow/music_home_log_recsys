{
 "cells": [
  {
   "cell_type": "code",
   "execution_count": 5,
   "id": "57c4bef5-2b26-4c41-83b7-62a061f06a78",
   "metadata": {
    "execution": {
     "iopub.execute_input": "2023-11-12T13:02:05.591871Z",
     "iopub.status.busy": "2023-11-12T13:02:05.591518Z",
     "iopub.status.idle": "2023-11-12T13:02:07.010503Z",
     "shell.execute_reply": "2023-11-12T13:02:07.009608Z",
     "shell.execute_reply.started": "2023-11-12T13:02:05.591847Z"
    },
    "tags": []
   },
   "outputs": [],
   "source": [
    "from skt.ye import get_spark\n",
    "from sklearn.model_selection import train_test_split\n",
    "from matplotlib import pyplot as plt\n",
    "import seaborn as sns\n",
    "import numpy as np\n",
    "import pandas as pd\n",
    "import pyspark.sql.functions as F\n",
    "import sys\n",
    "from datetime import datetime, timedelta"
   ]
  },
  {
   "cell_type": "code",
   "execution_count": 6,
   "id": "d4731c3f-b262-4655-91a2-96d29c83f8aa",
   "metadata": {
    "execution": {
     "iopub.execute_input": "2023-11-12T13:02:07.012382Z",
     "iopub.status.busy": "2023-11-12T13:02:07.011900Z",
     "iopub.status.idle": "2023-11-12T13:02:07.691308Z",
     "shell.execute_reply": "2023-11-12T13:02:07.690538Z",
     "shell.execute_reply.started": "2023-11-12T13:02:07.012356Z"
    },
    "tags": []
   },
   "outputs": [],
   "source": [
    "from skt.gcp import load_bigquery_ipython_magic, \\\n",
    "                    bq_to_pandas, \\\n",
    "                    get_bigquery_client, \\\n",
    "                    bq_to_df"
   ]
  },
  {
   "cell_type": "code",
   "execution_count": 7,
   "id": "1278df45-b3e5-4202-9c53-17d6bcddefa6",
   "metadata": {
    "execution": {
     "iopub.execute_input": "2023-11-12T13:02:07.692960Z",
     "iopub.status.busy": "2023-11-12T13:02:07.692301Z",
     "iopub.status.idle": "2023-11-12T13:02:07.695700Z",
     "shell.execute_reply": "2023-11-12T13:02:07.695118Z",
     "shell.execute_reply.started": "2023-11-12T13:02:07.692933Z"
    },
    "tags": []
   },
   "outputs": [],
   "source": [
    "current_dt = '20231109'"
   ]
  },
  {
   "cell_type": "code",
   "execution_count": 16,
   "id": "c3186c32-38a9-43d4-8857-79f0f8fa070e",
   "metadata": {
    "execution": {
     "iopub.execute_input": "2023-11-12T13:03:58.686896Z",
     "iopub.status.busy": "2023-11-12T13:03:58.685902Z",
     "iopub.status.idle": "2023-11-12T13:03:58.690185Z",
     "shell.execute_reply": "2023-11-12T13:03:58.689403Z",
     "shell.execute_reply.started": "2023-11-12T13:03:58.686849Z"
    },
    "tags": []
   },
   "outputs": [],
   "source": [
    "execution_dt = datetime.strptime(current_dt, '%Y%m%d')\n",
    "execution_date_ago = (execution_dt - timedelta(days=1)).strftime('%Y/%m/%d')\n",
    "execution_dt = execution_dt.strftime('%Y-%m-%d')\n",
    "print(f'excution_dt: {execution_dt}')\n",
    "print(f'execution_dt_ago: {execution_date_ago}')"
   ]
  },
  {
   "cell_type": "code",
   "execution_count": 9,
   "id": "32a982fa-a8c8-48aa-ba4f-13ea7f1a72d1",
   "metadata": {
    "execution": {
     "iopub.execute_input": "2023-11-12T13:03:13.209422Z",
     "iopub.status.busy": "2023-11-12T13:03:13.208567Z",
     "iopub.status.idle": "2023-11-12T13:03:13.212742Z",
     "shell.execute_reply": "2023-11-12T13:03:13.212086Z",
     "shell.execute_reply.started": "2023-11-12T13:03:13.209391Z"
    },
    "tags": []
   },
   "outputs": [],
   "source": [
    "query = f\"\"\"\n",
    "SELECT  A.*,\n",
    "        B.*\n",
    "FROM(\n",
    "    SELECT * \n",
    "    FROM `skt-datahub.x1112436.adot_musichome_log_stg`\n",
    "    WHERE dt = '{execution_dt}'\n",
    ") A\n",
    "JOIN \n",
    "(\n",
    "SELECT * \n",
    "FROM `skt-datahub.x1112436.adot_musichome_app_log_stg`\n",
    "WHERE dt = '{execution_dt}'\n",
    ") AS B\n",
    "ON A.transactionId = B.transactionId\n",
    "\"\"\""
   ]
  },
  {
   "cell_type": "code",
   "execution_count": 15,
   "id": "7e88c62c-b0cc-47bd-8ca6-8d64a449e8ef",
   "metadata": {
    "execution": {
     "iopub.execute_input": "2023-11-12T13:03:45.741939Z",
     "iopub.status.busy": "2023-11-12T13:03:45.741010Z",
     "iopub.status.idle": "2023-11-12T13:03:45.745099Z",
     "shell.execute_reply": "2023-11-12T13:03:45.744409Z",
     "shell.execute_reply.started": "2023-11-12T13:03:45.741890Z"
    },
    "tags": []
   },
   "outputs": [],
   "source": [
    "joined_log = bq_to_pandas(query)"
   ]
  },
  {
   "cell_type": "code",
   "execution_count": 13,
   "id": "a31da44b-9fdc-4801-8eda-14a03fc57ef6",
   "metadata": {
    "execution": {
     "iopub.execute_input": "2023-11-12T13:03:37.905758Z",
     "iopub.status.busy": "2023-11-12T13:03:37.904890Z",
     "iopub.status.idle": "2023-11-12T13:03:37.908491Z",
     "shell.execute_reply": "2023-11-12T13:03:37.907817Z",
     "shell.execute_reply.started": "2023-11-12T13:03:37.905727Z"
    },
    "tags": []
   },
   "outputs": [],
   "source": [
    "# joined_log.count()"
   ]
  },
  {
   "cell_type": "code",
   "execution_count": null,
   "id": "5f18ae36-f5d1-46fe-8309-d2fc2b63684f",
   "metadata": {},
   "outputs": [],
   "source": []
  }
 ],
 "metadata": {
  "kernelspec": {
   "display_name": "Python 3 (ipykernel)",
   "language": "python",
   "name": "python3"
  },
  "language_info": {
   "codemirror_mode": {
    "name": "ipython",
    "version": 3
   },
   "file_extension": ".py",
   "mimetype": "text/x-python",
   "name": "python",
   "nbconvert_exporter": "python",
   "pygments_lexer": "ipython3",
   "version": "3.8.12"
  }
 },
 "nbformat": 4,
 "nbformat_minor": 5
}
